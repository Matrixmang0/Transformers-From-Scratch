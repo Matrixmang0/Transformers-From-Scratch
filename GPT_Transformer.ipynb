{
  "cells": [
    {
      "cell_type": "markdown",
      "metadata": {
        "id": "lYT5NXV-2eXr"
      },
      "source": [
        "In this assignment, you will be implementing a GPT model and train it using CLM objective.\n",
        " * If you get stuck at something or need more clarrifications, you may refer to : https://github.com/karpathy/minGPT/blob/master/mingpt/model.py\n",
        "\n",
        " * We will be using ReLU activation function instead of GELU.\n",
        "\n",
        " * As usual, let us install the required libraries\n",
        "\n",
        " * **Note** that if you are not getting the exact loss values as mentioned in this notebook, that is absolutely fine. Just see whether your implementation overfits the given toy-and-tiny paragraph!"
      ]
    },
    {
      "cell_type": "markdown",
      "metadata": {
        "id": "hdKopIVVtzKx"
      },
      "source": [
        "# Installation\n"
      ]
    },
    {
      "cell_type": "code",
      "execution_count": null,
      "metadata": {
        "id": "HF0ap-B02CW7",
        "outputId": "9fb6b3c2-aa61-4d1e-a7a9-c2c41c88b7c2",
        "colab": {
          "base_uri": "https://localhost:8080/"
        }
      },
      "outputs": [
        {
          "output_type": "stream",
          "name": "stdout",
          "text": [
            "Collecting torchdata==0.6.0\n",
            "  Using cached torchdata-0.6.0-cp310-cp310-manylinux_2_17_x86_64.manylinux2014_x86_64.whl.metadata (919 bytes)\n",
            "Requirement already satisfied: urllib3>=1.25 in /usr/local/lib/python3.10/dist-packages (from torchdata==0.6.0) (2.2.3)\n",
            "Requirement already satisfied: requests in /usr/local/lib/python3.10/dist-packages (from torchdata==0.6.0) (2.32.3)\n",
            "Collecting torch==2.0.0 (from torchdata==0.6.0)\n",
            "  Using cached torch-2.0.0-cp310-cp310-manylinux1_x86_64.whl.metadata (24 kB)\n",
            "Requirement already satisfied: filelock in /usr/local/lib/python3.10/dist-packages (from torch==2.0.0->torchdata==0.6.0) (3.16.1)\n",
            "Requirement already satisfied: typing-extensions in /usr/local/lib/python3.10/dist-packages (from torch==2.0.0->torchdata==0.6.0) (4.12.2)\n",
            "Requirement already satisfied: sympy in /usr/local/lib/python3.10/dist-packages (from torch==2.0.0->torchdata==0.6.0) (1.13.1)\n",
            "Requirement already satisfied: networkx in /usr/local/lib/python3.10/dist-packages (from torch==2.0.0->torchdata==0.6.0) (3.4.2)\n",
            "Requirement already satisfied: jinja2 in /usr/local/lib/python3.10/dist-packages (from torch==2.0.0->torchdata==0.6.0) (3.1.4)\n",
            "Requirement already satisfied: nvidia-cuda-nvrtc-cu11==11.7.99 in /usr/local/lib/python3.10/dist-packages (from torch==2.0.0->torchdata==0.6.0) (11.7.99)\n",
            "Requirement already satisfied: nvidia-cuda-runtime-cu11==11.7.99 in /usr/local/lib/python3.10/dist-packages (from torch==2.0.0->torchdata==0.6.0) (11.7.99)\n",
            "Requirement already satisfied: nvidia-cuda-cupti-cu11==11.7.101 in /usr/local/lib/python3.10/dist-packages (from torch==2.0.0->torchdata==0.6.0) (11.7.101)\n",
            "Requirement already satisfied: nvidia-cudnn-cu11==8.5.0.96 in /usr/local/lib/python3.10/dist-packages (from torch==2.0.0->torchdata==0.6.0) (8.5.0.96)\n",
            "Requirement already satisfied: nvidia-cublas-cu11==11.10.3.66 in /usr/local/lib/python3.10/dist-packages (from torch==2.0.0->torchdata==0.6.0) (11.10.3.66)\n",
            "Requirement already satisfied: nvidia-cufft-cu11==10.9.0.58 in /usr/local/lib/python3.10/dist-packages (from torch==2.0.0->torchdata==0.6.0) (10.9.0.58)\n",
            "Requirement already satisfied: nvidia-curand-cu11==10.2.10.91 in /usr/local/lib/python3.10/dist-packages (from torch==2.0.0->torchdata==0.6.0) (10.2.10.91)\n",
            "Requirement already satisfied: nvidia-cusolver-cu11==11.4.0.1 in /usr/local/lib/python3.10/dist-packages (from torch==2.0.0->torchdata==0.6.0) (11.4.0.1)\n",
            "Requirement already satisfied: nvidia-cusparse-cu11==11.7.4.91 in /usr/local/lib/python3.10/dist-packages (from torch==2.0.0->torchdata==0.6.0) (11.7.4.91)\n",
            "Requirement already satisfied: nvidia-nccl-cu11==2.14.3 in /usr/local/lib/python3.10/dist-packages (from torch==2.0.0->torchdata==0.6.0) (2.14.3)\n",
            "Requirement already satisfied: nvidia-nvtx-cu11==11.7.91 in /usr/local/lib/python3.10/dist-packages (from torch==2.0.0->torchdata==0.6.0) (11.7.91)\n",
            "Collecting triton==2.0.0 (from torch==2.0.0->torchdata==0.6.0)\n",
            "  Using cached triton-2.0.0-1-cp310-cp310-manylinux2014_x86_64.manylinux_2_17_x86_64.whl.metadata (1.0 kB)\n",
            "Requirement already satisfied: setuptools in /usr/local/lib/python3.10/dist-packages (from nvidia-cublas-cu11==11.10.3.66->torch==2.0.0->torchdata==0.6.0) (75.1.0)\n",
            "Requirement already satisfied: wheel in /usr/local/lib/python3.10/dist-packages (from nvidia-cublas-cu11==11.10.3.66->torch==2.0.0->torchdata==0.6.0) (0.45.0)\n",
            "Requirement already satisfied: cmake in /usr/local/lib/python3.10/dist-packages (from triton==2.0.0->torch==2.0.0->torchdata==0.6.0) (3.30.5)\n",
            "Requirement already satisfied: lit in /usr/local/lib/python3.10/dist-packages (from triton==2.0.0->torch==2.0.0->torchdata==0.6.0) (18.1.8)\n",
            "Requirement already satisfied: charset-normalizer<4,>=2 in /usr/local/lib/python3.10/dist-packages (from requests->torchdata==0.6.0) (3.4.0)\n",
            "Requirement already satisfied: idna<4,>=2.5 in /usr/local/lib/python3.10/dist-packages (from requests->torchdata==0.6.0) (3.10)\n",
            "Requirement already satisfied: certifi>=2017.4.17 in /usr/local/lib/python3.10/dist-packages (from requests->torchdata==0.6.0) (2024.8.30)\n",
            "Requirement already satisfied: MarkupSafe>=2.0 in /usr/local/lib/python3.10/dist-packages (from jinja2->torch==2.0.0->torchdata==0.6.0) (3.0.2)\n",
            "Requirement already satisfied: mpmath<1.4,>=1.1.0 in /usr/local/lib/python3.10/dist-packages (from sympy->torch==2.0.0->torchdata==0.6.0) (1.3.0)\n",
            "Using cached torchdata-0.6.0-cp310-cp310-manylinux_2_17_x86_64.manylinux2014_x86_64.whl (4.6 MB)\n",
            "Using cached torch-2.0.0-cp310-cp310-manylinux1_x86_64.whl (619.9 MB)\n",
            "Using cached triton-2.0.0-1-cp310-cp310-manylinux2014_x86_64.manylinux_2_17_x86_64.whl (63.3 MB)\n",
            "Installing collected packages: triton, torch, torchdata\n",
            "  Attempting uninstall: triton\n",
            "    Found existing installation: triton 2.1.0\n",
            "    Uninstalling triton-2.1.0:\n",
            "      Successfully uninstalled triton-2.1.0\n",
            "  Attempting uninstall: torch\n",
            "    Found existing installation: torch 2.1.2\n",
            "    Uninstalling torch-2.1.2:\n",
            "      Successfully uninstalled torch-2.1.2\n",
            "  Attempting uninstall: torchdata\n",
            "    Found existing installation: torchdata 0.7.1\n",
            "    Uninstalling torchdata-0.7.1:\n",
            "      Successfully uninstalled torchdata-0.7.1\n",
            "\u001b[31mERROR: pip's dependency resolver does not currently take into account all the packages that are installed. This behaviour is the source of the following dependency conflicts.\n",
            "torchaudio 2.5.1+cu121 requires torch==2.5.1, but you have torch 2.0.0 which is incompatible.\n",
            "torchtext 0.16.2 requires torch==2.1.2, but you have torch 2.0.0 which is incompatible.\n",
            "torchtext 0.16.2 requires torchdata==0.7.1, but you have torchdata 0.6.0 which is incompatible.\n",
            "torchvision 0.20.1+cu121 requires torch==2.5.1, but you have torch 2.0.0 which is incompatible.\u001b[0m\u001b[31m\n",
            "\u001b[0mSuccessfully installed torch-2.0.0 torchdata-0.6.0 triton-2.0.0\n",
            "Requirement already satisfied: portalocker==2.0.0 in /usr/local/lib/python3.10/dist-packages (2.0.0)\n"
          ]
        }
      ],
      "source": [
        "!pip install torchdata==0.6.0 # to be compatible with torch 2.0\n",
        "!pip install portalocker==2.0.0"
      ]
    },
    {
      "cell_type": "markdown",
      "metadata": {
        "id": "37SOAt7OE8pW"
      },
      "source": [
        "* See [here](https://github.com/pytorch/text) for compatability"
      ]
    },
    {
      "cell_type": "code",
      "execution_count": null,
      "metadata": {
        "id": "amMg7VeGEnui",
        "outputId": "4279821d-93fa-4ffe-a6eb-bbd81e0b99bf",
        "colab": {
          "base_uri": "https://localhost:8080/"
        }
      },
      "outputs": [
        {
          "output_type": "stream",
          "name": "stdout",
          "text": [
            "Collecting torchtext==0.15.1\n",
            "  Downloading torchtext-0.15.1-cp310-cp310-manylinux1_x86_64.whl.metadata (7.4 kB)\n",
            "Requirement already satisfied: tqdm in /usr/local/lib/python3.10/dist-packages (from torchtext==0.15.1) (4.66.6)\n",
            "Requirement already satisfied: requests in /usr/local/lib/python3.10/dist-packages (from torchtext==0.15.1) (2.32.3)\n",
            "Requirement already satisfied: torch==2.0.0 in /usr/local/lib/python3.10/dist-packages (from torchtext==0.15.1) (2.0.0)\n",
            "Requirement already satisfied: numpy in /usr/local/lib/python3.10/dist-packages (from torchtext==0.15.1) (1.26.4)\n",
            "Requirement already satisfied: torchdata==0.6.0 in /usr/local/lib/python3.10/dist-packages (from torchtext==0.15.1) (0.6.0)\n",
            "Requirement already satisfied: filelock in /usr/local/lib/python3.10/dist-packages (from torch==2.0.0->torchtext==0.15.1) (3.16.1)\n",
            "Requirement already satisfied: typing-extensions in /usr/local/lib/python3.10/dist-packages (from torch==2.0.0->torchtext==0.15.1) (4.12.2)\n",
            "Requirement already satisfied: sympy in /usr/local/lib/python3.10/dist-packages (from torch==2.0.0->torchtext==0.15.1) (1.13.1)\n",
            "Requirement already satisfied: networkx in /usr/local/lib/python3.10/dist-packages (from torch==2.0.0->torchtext==0.15.1) (3.4.2)\n",
            "Requirement already satisfied: jinja2 in /usr/local/lib/python3.10/dist-packages (from torch==2.0.0->torchtext==0.15.1) (3.1.4)\n",
            "Requirement already satisfied: nvidia-cuda-nvrtc-cu11==11.7.99 in /usr/local/lib/python3.10/dist-packages (from torch==2.0.0->torchtext==0.15.1) (11.7.99)\n",
            "Requirement already satisfied: nvidia-cuda-runtime-cu11==11.7.99 in /usr/local/lib/python3.10/dist-packages (from torch==2.0.0->torchtext==0.15.1) (11.7.99)\n",
            "Requirement already satisfied: nvidia-cuda-cupti-cu11==11.7.101 in /usr/local/lib/python3.10/dist-packages (from torch==2.0.0->torchtext==0.15.1) (11.7.101)\n",
            "Requirement already satisfied: nvidia-cudnn-cu11==8.5.0.96 in /usr/local/lib/python3.10/dist-packages (from torch==2.0.0->torchtext==0.15.1) (8.5.0.96)\n",
            "Requirement already satisfied: nvidia-cublas-cu11==11.10.3.66 in /usr/local/lib/python3.10/dist-packages (from torch==2.0.0->torchtext==0.15.1) (11.10.3.66)\n",
            "Requirement already satisfied: nvidia-cufft-cu11==10.9.0.58 in /usr/local/lib/python3.10/dist-packages (from torch==2.0.0->torchtext==0.15.1) (10.9.0.58)\n",
            "Requirement already satisfied: nvidia-curand-cu11==10.2.10.91 in /usr/local/lib/python3.10/dist-packages (from torch==2.0.0->torchtext==0.15.1) (10.2.10.91)\n",
            "Requirement already satisfied: nvidia-cusolver-cu11==11.4.0.1 in /usr/local/lib/python3.10/dist-packages (from torch==2.0.0->torchtext==0.15.1) (11.4.0.1)\n",
            "Requirement already satisfied: nvidia-cusparse-cu11==11.7.4.91 in /usr/local/lib/python3.10/dist-packages (from torch==2.0.0->torchtext==0.15.1) (11.7.4.91)\n",
            "Requirement already satisfied: nvidia-nccl-cu11==2.14.3 in /usr/local/lib/python3.10/dist-packages (from torch==2.0.0->torchtext==0.15.1) (2.14.3)\n",
            "Requirement already satisfied: nvidia-nvtx-cu11==11.7.91 in /usr/local/lib/python3.10/dist-packages (from torch==2.0.0->torchtext==0.15.1) (11.7.91)\n",
            "Requirement already satisfied: triton==2.0.0 in /usr/local/lib/python3.10/dist-packages (from torch==2.0.0->torchtext==0.15.1) (2.0.0)\n",
            "Requirement already satisfied: urllib3>=1.25 in /usr/local/lib/python3.10/dist-packages (from torchdata==0.6.0->torchtext==0.15.1) (2.2.3)\n",
            "Requirement already satisfied: setuptools in /usr/local/lib/python3.10/dist-packages (from nvidia-cublas-cu11==11.10.3.66->torch==2.0.0->torchtext==0.15.1) (75.1.0)\n",
            "Requirement already satisfied: wheel in /usr/local/lib/python3.10/dist-packages (from nvidia-cublas-cu11==11.10.3.66->torch==2.0.0->torchtext==0.15.1) (0.45.0)\n",
            "Requirement already satisfied: cmake in /usr/local/lib/python3.10/dist-packages (from triton==2.0.0->torch==2.0.0->torchtext==0.15.1) (3.30.5)\n",
            "Requirement already satisfied: lit in /usr/local/lib/python3.10/dist-packages (from triton==2.0.0->torch==2.0.0->torchtext==0.15.1) (18.1.8)\n",
            "Requirement already satisfied: charset-normalizer<4,>=2 in /usr/local/lib/python3.10/dist-packages (from requests->torchtext==0.15.1) (3.4.0)\n",
            "Requirement already satisfied: idna<4,>=2.5 in /usr/local/lib/python3.10/dist-packages (from requests->torchtext==0.15.1) (3.10)\n",
            "Requirement already satisfied: certifi>=2017.4.17 in /usr/local/lib/python3.10/dist-packages (from requests->torchtext==0.15.1) (2024.8.30)\n",
            "Requirement already satisfied: MarkupSafe>=2.0 in /usr/local/lib/python3.10/dist-packages (from jinja2->torch==2.0.0->torchtext==0.15.1) (3.0.2)\n",
            "Requirement already satisfied: mpmath<1.4,>=1.1.0 in /usr/local/lib/python3.10/dist-packages (from sympy->torch==2.0.0->torchtext==0.15.1) (1.3.0)\n",
            "Downloading torchtext-0.15.1-cp310-cp310-manylinux1_x86_64.whl (2.0 MB)\n",
            "\u001b[2K   \u001b[90m━━━━━━━━━━━━━━━━━━━━━━━━━━━━━━━━━━━━━━━━\u001b[0m \u001b[32m2.0/2.0 MB\u001b[0m \u001b[31m19.8 MB/s\u001b[0m eta \u001b[36m0:00:00\u001b[0m\n",
            "\u001b[?25hInstalling collected packages: torchtext\n",
            "  Attempting uninstall: torchtext\n",
            "    Found existing installation: torchtext 0.16.2\n",
            "    Uninstalling torchtext-0.16.2:\n",
            "      Successfully uninstalled torchtext-0.16.2\n",
            "Successfully installed torchtext-0.15.1\n"
          ]
        }
      ],
      "source": [
        "!pip install -U torchtext==0.15.1"
      ]
    },
    {
      "cell_type": "markdown",
      "metadata": {
        "id": "OFnTb-YGtudi"
      },
      "source": [
        "# Imports"
      ]
    },
    {
      "cell_type": "code",
      "execution_count": null,
      "metadata": {
        "id": "NCbW1AUlZsoO"
      },
      "outputs": [],
      "source": [
        "import torch\n",
        "from torch import Tensor\n",
        "\n",
        "import torch.nn as nn\n",
        "from torch.nn import Parameter\n",
        "import torch.nn.functional as F\n",
        "from torch.nn.functional import one_hot\n",
        "\n",
        "import torch.optim as optim\n",
        "\n",
        "#text lib\n",
        "import torchtext\n",
        "\n",
        "# tokenizer\n",
        "from torchtext.data.utils import get_tokenizer\n",
        "\n",
        "#build vocabulary\n",
        "from torchtext.vocab import vocab\n",
        "from torchtext.vocab import build_vocab_from_iterator\n",
        "\n",
        "# get input_ids (numericalization)\n",
        "from torchtext.transforms import VocabTransform\n",
        "\n",
        "# get embeddings\n",
        "from torch.nn import Embedding\n",
        "\n",
        "from  pprint import pprint\n",
        "from yaml import safe_load\n",
        "import copy\n",
        "import numpy as np"
      ]
    },
    {
      "cell_type": "code",
      "execution_count": null,
      "metadata": {
        "id": "IjjPjidG6kr1",
        "outputId": "d3e0094e-8d43-4d84-b0d7-ea05d7b72ab1",
        "colab": {
          "base_uri": "https://localhost:8080/"
        }
      },
      "outputs": [
        {
          "output_type": "stream",
          "name": "stderr",
          "text": [
            "[nltk_data] Downloading package punkt to /root/nltk_data...\n",
            "[nltk_data]   Package punkt is already up-to-date!\n"
          ]
        },
        {
          "output_type": "execute_result",
          "data": {
            "text/plain": [
              "True"
            ]
          },
          "metadata": {},
          "execution_count": 4
        }
      ],
      "source": [
        "import nltk\n",
        "nltk.download('punkt')"
      ]
    },
    {
      "cell_type": "markdown",
      "metadata": {
        "id": "4wTjUVQRaoqI"
      },
      "source": [
        "# Load the dataset for LM modeling\n",
        "\n",
        " * We use a simple tokenizer and put"
      ]
    },
    {
      "cell_type": "code",
      "execution_count": null,
      "metadata": {
        "id": "-aWB84SAN00b"
      },
      "outputs": [],
      "source": [
        "batch_size = 10"
      ]
    },
    {
      "cell_type": "code",
      "execution_count": null,
      "metadata": {
        "id": "EBzIVx8u5VQU"
      },
      "outputs": [],
      "source": [
        "class Tokenizer(object):\n",
        "\n",
        "  def __init__(self,text):\n",
        "    self.text = text\n",
        "    self.word_tokenizer = get_tokenizer(tokenizer=\"basic_english\",language='en')\n",
        "    self.vocab_size = None\n",
        "\n",
        "  def get_tokens(self):\n",
        "    for sentence in self.text.strip().split('\\n'):\n",
        "      yield self.word_tokenizer(sentence)\n",
        "\n",
        "  def build_vocab(self):\n",
        "    v = build_vocab_from_iterator(self.get_tokens(),\n",
        "                                  min_freq=1,specials=['<unk>','<start>','<end>'])\n",
        "    v.set_default_index(v['<unk>']) # index of OOV\n",
        "    self.vocab_size = len(v)\n",
        "    return v\n",
        "\n",
        "  def token_ids(self):\n",
        "    v = self.build_vocab()\n",
        "    vt = VocabTransform(v)\n",
        "    num_tokens = len(self.word_tokenizer(self.text))\n",
        "    max_seq_len = np.ceil(num_tokens/batch_size)\n",
        "    data = torch.zeros(size=(1,num_tokens))\n",
        "    data = vt(self.word_tokenizer(self.text))\n",
        "    data = torch.tensor(data,dtype=torch.int64)\n",
        "    return data.reshape(batch_size,torch.tensor(max_seq_len,dtype=torch.int64))\n",
        "\n"
      ]
    },
    {
      "cell_type": "code",
      "execution_count": null,
      "metadata": {
        "id": "FE1L07Z-AoNz"
      },
      "outputs": [],
      "source": [
        "text = \"\"\"Best known for the invention of Error Correcting Codes, he was a true polymath who applied his mathematical and problem-solving skills to numerous disciplines.\n",
        "Reflecting on the significant benefits I received from Hamming, I decided to develop a tribute to his legacy. There has not been a previous biography of Hamming, and the few articles about him restate known facts and assumptions and leave us with open questions.\n",
        "One thought drove me as I developed this legacy project: An individual's legacy is more than a list of their attempts and accomplishments. Their tribute should also reveal the succeeding generations they inspired and enabled and what each attempted and achieved.\n",
        "This book is a unique genre containing my version of a biography that intertwines the story \"of a life\" and a multi-player memoir with particular events and turning points recalled by those, including me, who he inspired and enabled.\n",
        "Five years of research uncovered the people, places, opportunities, events, and influences that shaped Hamming. I discovered unpublished information, stories, photographs, videos, and personal remembrances to chronicle his life, which helped me put Hamming's\n",
        "legacy in the context I wanted.The result demonstrates many exceptional qualities, including his noble pursuit of excellence and helping others. Hamming paid attention to the details, his writings continue to influence, and his guidance is a timeless gift to the world.\n",
        "This biography is part of \"\"\""
      ]
    },
    {
      "cell_type": "code",
      "execution_count": null,
      "metadata": {
        "id": "-OD9gBdaBHs1"
      },
      "outputs": [],
      "source": [
        "Tk = Tokenizer(text)"
      ]
    },
    {
      "cell_type": "code",
      "execution_count": null,
      "metadata": {
        "colab": {
          "base_uri": "https://localhost:8080/"
        },
        "id": "VTz7eGsSFK24",
        "outputId": "24d5f741-7b8b-4283-820a-f32310e4dc28"
      },
      "outputs": [
        {
          "output_type": "stream",
          "name": "stdout",
          "text": [
            "torch.Size([10, 26])\n"
          ]
        }
      ],
      "source": [
        "x_raw = Tk.token_ids()\n",
        "print(x_raw.shape)"
      ]
    },
    {
      "cell_type": "code",
      "execution_count": null,
      "metadata": {
        "colab": {
          "base_uri": "https://localhost:8080/"
        },
        "id": "ToL6j7ECOEIC",
        "outputId": "9591d9f2-c09d-4c67-96bd-d2e7aa45a05d"
      },
      "outputs": [
        {
          "output_type": "stream",
          "name": "stdout",
          "text": [
            "['<unk>', '<start>', '<end>', ',', 'and', '.', 'the', 'a', 'of', 'to']\n"
          ]
        }
      ],
      "source": [
        "# let us display the first 10 tokens of the vocabulary\n",
        "v = Tk.build_vocab()\n",
        "print(v.vocab.get_itos()[0:10])"
      ]
    },
    {
      "cell_type": "markdown",
      "metadata": {
        "id": "Gs00A32ieNJp"
      },
      "source": [
        "* Create the input_ids and Labels from the raw input sequence"
      ]
    },
    {
      "cell_type": "code",
      "execution_count": null,
      "metadata": {
        "colab": {
          "base_uri": "https://localhost:8080/"
        },
        "id": "4dCg4PYfaXhP",
        "outputId": "490c9b10-cb79-4d98-c8ea-a928b4dfa2a9"
      },
      "outputs": [
        {
          "output_type": "stream",
          "name": "stdout",
          "text": [
            "<start> best known for the invention of error correcting codes , he was a true polymath who applied his mathematical and problem-solving skills to numerous disciplines . <end>\n"
          ]
        }
      ],
      "source": [
        "bs,raw_seq_len = x_raw.shape\n",
        "x = torch.empty(size=(bs,raw_seq_len+2),dtype=torch.int64)\n",
        "x[:,1:-1] =x_raw\n",
        "\n",
        "# insert the index of special tokens\n",
        "x[:,0] = torch.full(size=(1,batch_size),fill_value=v.vocab.get_stoi()['<start>'])\n",
        "x[:,-1] = torch.full(size=(1,batch_size),fill_value=v.vocab.get_stoi()['<end>'])\n",
        "\n",
        "# Quickly check implementation\n",
        "v = Tk.build_vocab()\n",
        "words = []\n",
        "for idx in x[0,:]:\n",
        "  words.append(v.vocab.get_itos()[idx.item()])\n",
        "print(' '.join(words))"
      ]
    },
    {
      "cell_type": "code",
      "execution_count": null,
      "metadata": {
        "id": "A-Y0R3FSfEex"
      },
      "outputs": [],
      "source": [
        "# labels are just the input_ids shifted by right\n",
        "bs,seq_len = x.shape\n",
        "y = torch.empty(size=(bs,seq_len),dtype=torch.int64)\n",
        "y[:,0:-1] = copy.deepcopy(x[:,1:])\n",
        "\n",
        "# ignore the index of padded tokens while computing loss\n",
        "y[:,-1] = torch.full(size=(1,batch_size),fill_value=-100)"
      ]
    },
    {
      "cell_type": "markdown",
      "metadata": {
        "id": "z8-18UlZ2ES7"
      },
      "source": [
        "# Configuration"
      ]
    },
    {
      "cell_type": "code",
      "execution_count": null,
      "metadata": {
        "id": "2kgKn1Emakah"
      },
      "outputs": [],
      "source": [
        "vocab_size = Tk.vocab_size\n",
        "seq_len = x.shape[1]\n",
        "embed_dim = 32\n",
        "dmodel = embed_dim\n",
        "dq = torch.tensor(4)\n",
        "dk = torch.tensor(4)\n",
        "dv = torch.tensor(4)\n",
        "heads = torch.tensor(8)\n",
        "d_ff = 4*dmodel"
      ]
    },
    {
      "cell_type": "code",
      "execution_count": null,
      "metadata": {
        "id": "4IJFuOx-VNhX",
        "outputId": "214c597c-b3e4-4414-c035-6293f628bbff",
        "colab": {
          "base_uri": "https://localhost:8080/"
        }
      },
      "outputs": [
        {
          "output_type": "execute_result",
          "data": {
            "text/plain": [
              "32"
            ]
          },
          "metadata": {},
          "execution_count": 16
        }
      ],
      "source": [
        "dmodel"
      ]
    },
    {
      "cell_type": "markdown",
      "metadata": {
        "id": "oyQlw_Q9OLFT"
      },
      "source": [
        "* Define all the sub-layers (mhma,ffn) in the transformer blocks\n",
        "* Seed for $W_Q,W_K,W_V,W_O$, 43, 44 and 45, 46, respectively\n",
        "* Seed for ffn $W_1,W_2$,  47 and 48. There are no biases\n",
        "* Seed for output layer 49"
      ]
    },
    {
      "cell_type": "code",
      "execution_count": null,
      "metadata": {
        "id": "Eg589leczupJ"
      },
      "outputs": [],
      "source": [
        "class MHMA(nn.Module):\n",
        "    def __init__(self, d_model, dq, dk, dv, heads):\n",
        "        super(MHMA, self).__init__()\n",
        "\n",
        "        self.d_model = d_model\n",
        "        self.heads = heads\n",
        "        self.dq = dq\n",
        "        self.dk = dk\n",
        "        self.dv = dv\n",
        "\n",
        "        self.W_q = nn.ModuleList([\n",
        "            nn.Linear(d_model, dq, bias=False)\n",
        "            for _ in range(heads)\n",
        "        ])\n",
        "        self.W_k = nn.ModuleList([\n",
        "            nn.Linear(d_model, dk, bias=False)\n",
        "            for _ in range(heads)\n",
        "        ])\n",
        "        self.W_v = nn.ModuleList([\n",
        "            nn.Linear(d_model, dv, bias=False)\n",
        "            for _ in range(heads)\n",
        "        ])\n",
        "        self.W_o = nn.Linear(heads * dv, d_model, bias=False)\n",
        "\n",
        "        self.attn_head_size = self.dk\n",
        "\n",
        "    def forward(self, Q, K, V, mask=None):\n",
        "        BS, T, _ = Q.shape\n",
        "\n",
        "        head_outputs = []\n",
        "        for head in range(self.heads):\n",
        "            Q_head = self.W_q[head](Q)\n",
        "            K_head = self.W_k[head](K)\n",
        "            V_head = self.W_v[head](V)\n",
        "\n",
        "            Q_head = Q_head.unsqueeze(1)\n",
        "            K_head = K_head.unsqueeze(1)\n",
        "            V_head = V_head.unsqueeze(1)\n",
        "\n",
        "            head_outputs.append(Q_head)\n",
        "\n",
        "        Q = torch.cat(head_outputs, dim=1)\n",
        "        K = torch.cat([self.W_k[h](K).unsqueeze(1) for h in range(self.heads)], dim=1)\n",
        "        V = torch.cat([self.W_v[h](V).unsqueeze(1) for h in range(self.heads)], dim=1)\n",
        "\n",
        "        if mask is not None:\n",
        "            attn_score = torch.matmul(\n",
        "                F.softmax(\n",
        "                    (torch.matmul(Q, torch.transpose(K, -2, -1)) + mask) / np.sqrt(self.dq),\n",
        "                    dim=-1\n",
        "                ),\n",
        "                V\n",
        "            )\n",
        "        else:\n",
        "            attn_score = torch.matmul(\n",
        "                F.softmax(\n",
        "                    torch.matmul(Q, torch.transpose(K, -2, -1)) / np.sqrt(self.dq),\n",
        "                    dim=-1\n",
        "                ),\n",
        "                V\n",
        "            )\n",
        "\n",
        "\n",
        "        combined_attn = attn_score.permute(0, 2, 1, 3).contiguous().view(BS, T, -1)\n",
        "\n",
        "        out = self.W_o(combined_attn)\n",
        "\n",
        "        return out"
      ]
    },
    {
      "cell_type": "code",
      "execution_count": null,
      "metadata": {
        "id": "pU9RUOhGVNhX"
      },
      "outputs": [],
      "source": [
        "class FFN(nn.Module):\n",
        "\n",
        "    def __init__(self, d_model, d_ff, dropout=0.1):\n",
        "        super().__init__()\n",
        "        self.linear1 = nn.Linear(d_model, d_ff)\n",
        "        self.dropout = nn.Dropout(dropout)\n",
        "        self.linear2 = nn.Linear(d_ff, d_model)\n",
        "        self.activation = nn.ReLU()\n",
        "\n",
        "    def forward(self, x):\n",
        "        x = self.linear1(x)\n",
        "        x = self.activation(x)\n",
        "        x = self.dropout(x)\n",
        "        x = self.linear2(x)\n",
        "        return x"
      ]
    },
    {
      "cell_type": "code",
      "execution_count": null,
      "metadata": {
        "id": "cfCXHI9iVNhX"
      },
      "outputs": [],
      "source": [
        "class PredictionHead(nn.Module):\n",
        "\n",
        "    def __init__(self, d_model, num_classes, dropout=0.1):\n",
        "        super().__init__()\n",
        "        self.norm = nn.LayerNorm(d_model)\n",
        "        self.dropout = nn.Dropout(dropout)\n",
        "        self.decoder = nn.Linear(d_model, num_classes)\n",
        "\n",
        "    def forward(self, x):\n",
        "        x = self.dropout(x)\n",
        "        x = self.norm(x)\n",
        "        x = self.decoder(x)\n",
        "        return x"
      ]
    },
    {
      "cell_type": "code",
      "execution_count": null,
      "metadata": {
        "id": "AaP7N0QLVNhX"
      },
      "outputs": [],
      "source": [
        "class PositionalEncoding(nn.Module):\n",
        "\n",
        "    def __init__(self, d_model, max_seq_length=5000, dropout=0.1):\n",
        "        super().__init__()\n",
        "        self.dropout = nn.Dropout(dropout)\n",
        "\n",
        "\n",
        "        pe = torch.zeros(max_seq_length, d_model)\n",
        "        position = torch.arange(0, max_seq_length, dtype=torch.float).unsqueeze(1)\n",
        "        div_term = torch.exp(torch.arange(0, d_model, 2).float() * (-np.log(10000.0) / d_model))\n",
        "\n",
        "        pe[:, 0::2] = torch.sin(position * div_term)\n",
        "        pe[:, 1::2] = torch.cos(position * div_term)\n",
        "        pe = pe.unsqueeze(0)\n",
        "\n",
        "\n",
        "        self.register_buffer('pe', pe)\n",
        "\n",
        "    def forward(self, x):\n",
        "        x = x + self.pe[:, :x.size(1)]\n",
        "        return self.dropout(x)\n"
      ]
    },
    {
      "cell_type": "code",
      "execution_count": null,
      "metadata": {
        "id": "GqLWLnOUVNhX"
      },
      "outputs": [],
      "source": [
        "mask = (torch.triu(torch.ones(seq_len,seq_len)) == 1).transpose(0,1)\n",
        "mask = mask.float().masked_fill(mask == 0, float('-inf')).masked_fill(mask == 1, float(0.0))"
      ]
    },
    {
      "cell_type": "code",
      "execution_count": null,
      "metadata": {
        "id": "-Z_eWhYUz4rQ"
      },
      "outputs": [],
      "source": [
        "class DecoderLayer(nn.Module):\n",
        "    def __init__(self, dmodel, dq, dk, dv, d_ff, heads):\n",
        "        super(DecoderLayer, self).__init__()\n",
        "        self.mhma = MHMA(dmodel, dq, dk, dv, heads)  # Masked MHMA\n",
        "        self.layer_norm_1 = nn.LayerNorm(dmodel)\n",
        "        self.ffn = FFN(dmodel, d_ff)\n",
        "        self.layer_norm_2 = nn.LayerNorm(dmodel)\n",
        "        self.mask = mask\n",
        "\n",
        "    def forward(self, dec_rep, mask):\n",
        "        \"\"\"\n",
        "        dec_rep: (batch_size, seq_len, dmodel)\n",
        "        \"\"\"\n",
        "\n",
        "        mhma_output = self.mhma(dec_rep,dec_rep, dec_rep,mask)\n",
        "\n",
        "        x = self.layer_norm_1(dec_rep + mhma_output)\n",
        "\n",
        "\n",
        "        ffn_output = self.ffn(x)\n",
        "\n",
        "        out = self.layer_norm_2(x + ffn_output)\n",
        "\n",
        "        return out"
      ]
    },
    {
      "cell_type": "code",
      "execution_count": null,
      "metadata": {
        "id": "MuaoeZtd0htC"
      },
      "outputs": [],
      "source": [
        "class Embed(nn.Module):\n",
        "\n",
        "  def __init__(self,vocab_size,embed_dim):\n",
        "    super(Embed,self).__init__()\n",
        "    self.embed = nn.Embedding(vocab_size, embed_dim)\n",
        "    self.pe = PositionalEncoding(embed_dim)\n",
        "\n",
        "  def forward(self,x):\n",
        "    out = self.pe(self.embed(x))\n",
        "    return out"
      ]
    },
    {
      "cell_type": "code",
      "execution_count": null,
      "metadata": {
        "id": "2yma_Vbc0k9n"
      },
      "outputs": [],
      "source": [
        "class Decoder(nn.Module):\n",
        "\n",
        "  def __init__(self,vocab_size,dmodel,dq,dk,dv,d_ff,heads,num_layers=1):\n",
        "    super(Decoder,self).__init__()\n",
        "    self.embed_lookup = Embed(vocab_size,embed_dim)\n",
        "    self.dec_layers = nn.ModuleList(copy.deepcopy(DecoderLayer(dmodel,dq,dk,dv,d_ff,heads)) for i in range(num_layers))\n",
        "    self.predict = PredictionHead(dmodel,vocab_size)\n",
        "\n",
        "  def forward(self,input_ids, mask):\n",
        "    out = self.embed_lookup(input_ids)\n",
        "    for dec_layer in self.dec_layers:\n",
        "      out = dec_layer(out, mask)\n",
        "    out = self.predict(out)\n",
        "\n",
        "    return out"
      ]
    },
    {
      "cell_type": "code",
      "execution_count": null,
      "metadata": {
        "id": "M62_C8zS06ya"
      },
      "outputs": [],
      "source": [
        "model = Decoder(vocab_size,dmodel,dq,dk,dv,d_ff,heads)"
      ]
    },
    {
      "cell_type": "code",
      "execution_count": null,
      "metadata": {
        "id": "n4y0aNcr2j1e"
      },
      "outputs": [],
      "source": [
        "criterion = nn.CrossEntropyLoss()\n",
        "optimizer = optim.SGD(model.parameters(), lr=0.1)"
      ]
    },
    {
      "cell_type": "code",
      "execution_count": null,
      "metadata": {
        "id": "6uhXU0ae2rxU"
      },
      "outputs": [],
      "source": [
        "def train(input_ids,labels,epochs=1000):\n",
        "  loss_trace = []\n",
        "  for epoch in range(epochs):\n",
        "    out = model(input_ids, mask=mask)\n",
        "    loss = criterion(out.view(-1, vocab_size), labels.view(-1))\n",
        "    loss_trace.append(loss.item())\n",
        "    loss.backward()\n",
        "    optimizer.step()\n",
        "    optimizer.zero_grad()\n",
        "    if (epoch + 1) % 1000 == 0:\n",
        "            print(f'Epoch [{epoch+1}/{epochs}], Loss: {loss.item():.4f}')\n",
        "\n",
        "  return loss_trace"
      ]
    },
    {
      "cell_type": "code",
      "execution_count": null,
      "metadata": {
        "id": "sHKeW38t2w4p",
        "outputId": "e077e10d-ded5-4b25-f5f3-5fa8f6f013db",
        "colab": {
          "base_uri": "https://localhost:8080/"
        }
      },
      "outputs": [
        {
          "output_type": "stream",
          "name": "stdout",
          "text": [
            "Epoch [1000/10000], Loss: 0.2294\n",
            "Epoch [2000/10000], Loss: 0.1474\n",
            "Epoch [3000/10000], Loss: 0.1343\n",
            "Epoch [4000/10000], Loss: 0.1103\n",
            "Epoch [5000/10000], Loss: 0.1015\n",
            "Epoch [6000/10000], Loss: 0.0991\n",
            "Epoch [7000/10000], Loss: 0.0979\n",
            "Epoch [8000/10000], Loss: 0.1026\n",
            "Epoch [9000/10000], Loss: 0.1076\n",
            "Epoch [10000/10000], Loss: 0.0942\n"
          ]
        }
      ],
      "source": [
        "# run the model for 10K epochs\n",
        "loss_trace=train(x,y,10000)"
      ]
    },
    {
      "cell_type": "code",
      "execution_count": null,
      "metadata": {
        "id": "D9xZ3IBqVNhY",
        "outputId": "f46fec61-9e22-4d55-9d6d-480ae2f50f00",
        "colab": {
          "base_uri": "https://localhost:8080/",
          "height": 447
        }
      },
      "outputs": [
        {
          "output_type": "execute_result",
          "data": {
            "text/plain": [
              "[<matplotlib.lines.Line2D at 0x7f4392785360>]"
            ]
          },
          "metadata": {},
          "execution_count": 29
        },
        {
          "output_type": "display_data",
          "data": {
            "text/plain": [
              "<Figure size 640x480 with 1 Axes>"
            ],
            "image/png": "[encoded data removed]"
          },
          "metadata": {}
        }
      ],
      "source": [
        "import matplotlib.pyplot as plt\n",
        "plt.plot(loss_trace, label='Training Loss')"
      ]
    },
    {
      "cell_type": "markdown",
      "metadata": {
        "id": "J9Sti5BtU03d"
      },
      "source": [
        "The loss is about 0.09 after 10K epochs"
      ]
    },
    {
      "cell_type": "markdown",
      "metadata": {
        "id": "sSHVHX4J40eS"
      },
      "source": [
        "# Generate text"
      ]
    },
    {
      "cell_type": "code",
      "execution_count": null,
      "metadata": {
        "id": "hLxsaqLGVNhZ",
        "outputId": "4e1124ed-8072-48ef-f819-4493181cea3f",
        "colab": {
          "base_uri": "https://localhost:8080/"
        }
      },
      "outputs": [
        {
          "output_type": "execute_result",
          "data": {
            "text/plain": [
              "tensor([[[-0.2169,  0.1683, -3.2348,  ...,  5.5937, -4.0363,  3.4876],\n",
              "         [-1.2053,  0.9998,  1.7406,  ...,  2.6023,  5.3037,  9.0182],\n",
              "         [-1.4868,  0.2166, -0.4383,  ...,  3.5820, -7.5712,  1.5953],\n",
              "         ...,\n",
              "         [-1.3653, -0.5825,  3.8969,  ...,  5.1757, -1.3427,  4.3466],\n",
              "         [-0.8232, -0.1522,  1.3065,  ...,  2.8392, -3.9416, -1.5880],\n",
              "         [ 0.0392,  0.4394,  2.4611,  ...,  6.1939, -3.5262,  5.1913]]],\n",
              "       grad_fn=<ViewBackward0>)"
            ]
          },
          "metadata": {},
          "execution_count": 32
        }
      ],
      "source": [
        "prompt = \"<start>\"\n",
        "input_ids = torch.tensor([v[token] for token in prompt], dtype=torch.long).unsqueeze(0)\n",
        "model(input_ids, mask=None)"
      ]
    },
    {
      "cell_type": "code",
      "execution_count": null,
      "metadata": {
        "id": "TYOkVHDV5TKf"
      },
      "outputs": [],
      "source": [
        "@torch.inference_mode()\n",
        "def generate(model, prompt='<start>', max_words=25):\n",
        "\n",
        "    model.eval()\n",
        "\n",
        "    input_ids = torch.tensor([v[token] for token in prompt], dtype=torch.long).unsqueeze(0)\n",
        "\n",
        "    generated_ids = input_ids.clone()\n",
        "    current_input = input_ids\n",
        "\n",
        "\n",
        "    for _ in range(max_words):\n",
        "\n",
        "        logits = model(current_input, mask=None)\n",
        "\n",
        "        next_token_logits = logits[:, -1, :]\n",
        "\n",
        "        next_token_id = torch.argmax(next_token_logits, dim=-1, keepdim=True)\n",
        "\n",
        "        generated_ids = torch.cat([generated_ids, next_token_id], dim=1)\n",
        "\n",
        "        current_input = generated_ids\n",
        "\n",
        "        if next_token_id.item() == v['<end>']:\n",
        "            break\n",
        "\n",
        "\n",
        "    generated_words = [\n",
        "        v.lookup_token(id.item()) for id in generated_ids[0]\n",
        "        if id.item() not in [v['<start>'], v['<end>']]\n",
        "    ]\n",
        "    return ' '.join(generated_words)"
      ]
    },
    {
      "cell_type": "code",
      "execution_count": null,
      "metadata": {
        "colab": {
          "base_uri": "https://localhost:8080/",
          "height": 53
        },
        "id": "xcA1Lu4j6Eq-",
        "outputId": "bfb0e505-4757-4db3-f771-0155a73db8cb"
      },
      "outputs": [
        {
          "output_type": "execute_result",
          "data": {
            "text/plain": [
              "\"<unk> s <unk> a <unk> <unk> <unk> research uncovered a life and personal remembrances to chronicle his life , which helped me put hamming ' s legacy\""
            ],
            "application/vnd.google.colaboratory.intrinsic+json": {
              "type": "string"
            }
          },
          "metadata": {},
          "execution_count": 40
        }
      ],
      "source": [
        "generate(model,prompt='<start>',max_words=25)"
      ]
    },
    {
      "cell_type": "markdown",
      "metadata": {
        "id": "sTaqoJ_2VDDa"
      },
      "source": [
        "* Note the model has memorized the sentence from the training set. Given the start token, if your implementation reproduce a sentence as is in the training set, then your implementation is likely to be correct.\n",
        "* Suppose the prompt is `<start> best known`, then we expect the model to produce the first sentence as is"
      ]
    },
    {
      "cell_type": "code",
      "execution_count": null,
      "metadata": {
        "colab": {
          "base_uri": "https://localhost:8080/",
          "height": 53
        },
        "id": "2N_Shu7TXjAT",
        "outputId": "ffa52e7a-9922-436b-cbec-360a53104d7a"
      },
      "outputs": [
        {
          "output_type": "execute_result",
          "data": {
            "text/plain": [
              "'best known for the invention of error correcting codes , he was a true polymath who applied his mathematical and problem-solving skills to numerous disciplines .'"
            ],
            "application/vnd.google.colaboratory.intrinsic+json": {
              "type": "string"
            }
          },
          "metadata": {},
          "execution_count": 41
        }
      ],
      "source": [
        "generate(model,prompt=['<start>','best','known'],max_words=25)"
      ]
    },
    {
      "cell_type": "markdown",
      "metadata": {
        "id": "P1hK47T5X2fY"
      },
      "source": [
        "* Change the prompt"
      ]
    },
    {
      "cell_type": "code",
      "execution_count": null,
      "metadata": {
        "colab": {
          "base_uri": "https://localhost:8080/",
          "height": 53
        },
        "id": "Q6_WM1K2X7qZ",
        "outputId": "7379f409-a7c3-4d38-9b27-e61a2b507a07"
      },
      "outputs": [
        {
          "output_type": "execute_result",
          "data": {
            "text/plain": [
              "'reflecting on the significant benefits i received from hamming , i decided to develop a tribute to his legacy . there has not been a previous'"
            ],
            "application/vnd.google.colaboratory.intrinsic+json": {
              "type": "string"
            }
          },
          "metadata": {},
          "execution_count": 42
        }
      ],
      "source": [
        "generate(model,prompt=['<start>','reflecting','on'],max_words=25)"
      ]
    }
  ],
  "metadata": {
    "colab": {
      "provenance": []
    },
    "kernelspec": {
      "display_name": "Python 3",
      "name": "python3"
    },
    "language_info": {
      "codemirror_mode": {
        "name": "ipython",
        "version": 3
      },
      "file_extension": ".py",
      "mimetype": "text/x-python",
      "name": "python",
      "nbconvert_exporter": "python",
      "pygments_lexer": "ipython3",
      "version": "3.12.7"
    }
  },
  "nbformat": 4,
  "nbformat_minor": 0
}