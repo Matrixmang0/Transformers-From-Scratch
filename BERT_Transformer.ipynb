{
  "nbformat": 4,
  "nbformat_minor": 0,
  "metadata": {
    "colab": {
      "provenance": []
    },
    "kernelspec": {
      "name": "python3",
      "display_name": "Python 3"
    },
    "language_info": {
      "name": "python"
    }
  },
  "cells": [
    {
      "cell_type": "markdown",
      "source": [
        "* In this assignment you will be implementing an encoder model that uses just **Masked Language Modelling (MLM)** objective.\n",
        "* We will use a simple BERT with the following modifications\n",
        "  * We just use MLM (just masking words) and **skip** NSP (Next Sentence Prediction) objective\n",
        "  * Therefore, we won't use [CLS] token\n",
        "* Again, it is absolutely fine if your loss value does not match with the one given here.\n",
        "* Just ensure that the model overfits the training data\n",
        "* You may increase the size of the training data if you want to test your implementation. In that case, we recommend you to use the tokenizer library from Hugging face\n",
        "\n"
      ],
      "metadata": {
        "id": "1-RvnrMa1aBI"
      }
    },
    {
      "cell_type": "markdown",
      "source": [
        "# Installations"
      ],
      "metadata": {
        "id": "MYTmQEKOdNas"
      }
    },
    {
      "cell_type": "code",
      "execution_count": null,
      "metadata": {
        "id": "cHiReOoRT-7C",
        "colab": {
          "base_uri": "https://localhost:8080/"
        },
        "outputId": "b9d83283-989b-4718-f0db-cbcef496a9a7"
      },
      "outputs": [
        {
          "output_type": "stream",
          "name": "stdout",
          "text": [
            "Requirement already satisfied: torchdata==0.6.0 in /usr/local/lib/python3.10/dist-packages (0.6.0)\n",
            "Requirement already satisfied: urllib3>=1.25 in /usr/local/lib/python3.10/dist-packages (from torchdata==0.6.0) (2.2.3)\n",
            "Requirement already satisfied: requests in /usr/local/lib/python3.10/dist-packages (from torchdata==0.6.0) (2.32.3)\n",
            "Requirement already satisfied: torch==2.0.0 in /usr/local/lib/python3.10/dist-packages (from torchdata==0.6.0) (2.0.0)\n",
            "Requirement already satisfied: filelock in /usr/local/lib/python3.10/dist-packages (from torch==2.0.0->torchdata==0.6.0) (3.16.1)\n",
            "Requirement already satisfied: typing-extensions in /usr/local/lib/python3.10/dist-packages (from torch==2.0.0->torchdata==0.6.0) (4.12.2)\n",
            "Requirement already satisfied: sympy in /usr/local/lib/python3.10/dist-packages (from torch==2.0.0->torchdata==0.6.0) (1.13.1)\n",
            "Requirement already satisfied: networkx in /usr/local/lib/python3.10/dist-packages (from torch==2.0.0->torchdata==0.6.0) (3.4.2)\n",
            "Requirement already satisfied: jinja2 in /usr/local/lib/python3.10/dist-packages (from torch==2.0.0->torchdata==0.6.0) (3.1.4)\n",
            "Requirement already satisfied: nvidia-cuda-nvrtc-cu11==11.7.99 in /usr/local/lib/python3.10/dist-packages (from torch==2.0.0->torchdata==0.6.0) (11.7.99)\n",
            "Requirement already satisfied: nvidia-cuda-runtime-cu11==11.7.99 in /usr/local/lib/python3.10/dist-packages (from torch==2.0.0->torchdata==0.6.0) (11.7.99)\n",
            "Requirement already satisfied: nvidia-cuda-cupti-cu11==11.7.101 in /usr/local/lib/python3.10/dist-packages (from torch==2.0.0->torchdata==0.6.0) (11.7.101)\n",
            "Requirement already satisfied: nvidia-cudnn-cu11==8.5.0.96 in /usr/local/lib/python3.10/dist-packages (from torch==2.0.0->torchdata==0.6.0) (8.5.0.96)\n",
            "Requirement already satisfied: nvidia-cublas-cu11==11.10.3.66 in /usr/local/lib/python3.10/dist-packages (from torch==2.0.0->torchdata==0.6.0) (11.10.3.66)\n",
            "Requirement already satisfied: nvidia-cufft-cu11==10.9.0.58 in /usr/local/lib/python3.10/dist-packages (from torch==2.0.0->torchdata==0.6.0) (10.9.0.58)\n",
            "Requirement already satisfied: nvidia-curand-cu11==10.2.10.91 in /usr/local/lib/python3.10/dist-packages (from torch==2.0.0->torchdata==0.6.0) (10.2.10.91)\n",
            "Requirement already satisfied: nvidia-cusolver-cu11==11.4.0.1 in /usr/local/lib/python3.10/dist-packages (from torch==2.0.0->torchdata==0.6.0) (11.4.0.1)\n",
            "Requirement already satisfied: nvidia-cusparse-cu11==11.7.4.91 in /usr/local/lib/python3.10/dist-packages (from torch==2.0.0->torchdata==0.6.0) (11.7.4.91)\n",
            "Requirement already satisfied: nvidia-nccl-cu11==2.14.3 in /usr/local/lib/python3.10/dist-packages (from torch==2.0.0->torchdata==0.6.0) (2.14.3)\n",
            "Requirement already satisfied: nvidia-nvtx-cu11==11.7.91 in /usr/local/lib/python3.10/dist-packages (from torch==2.0.0->torchdata==0.6.0) (11.7.91)\n",
            "Requirement already satisfied: triton==2.0.0 in /usr/local/lib/python3.10/dist-packages (from torch==2.0.0->torchdata==0.6.0) (2.0.0)\n",
            "Requirement already satisfied: setuptools in /usr/local/lib/python3.10/dist-packages (from nvidia-cublas-cu11==11.10.3.66->torch==2.0.0->torchdata==0.6.0) (75.1.0)\n",
            "Requirement already satisfied: wheel in /usr/local/lib/python3.10/dist-packages (from nvidia-cublas-cu11==11.10.3.66->torch==2.0.0->torchdata==0.6.0) (0.45.1)\n",
            "Requirement already satisfied: cmake in /usr/local/lib/python3.10/dist-packages (from triton==2.0.0->torch==2.0.0->torchdata==0.6.0) (3.30.5)\n",
            "Requirement already satisfied: lit in /usr/local/lib/python3.10/dist-packages (from triton==2.0.0->torch==2.0.0->torchdata==0.6.0) (18.1.8)\n",
            "Requirement already satisfied: charset-normalizer<4,>=2 in /usr/local/lib/python3.10/dist-packages (from requests->torchdata==0.6.0) (3.4.0)\n",
            "Requirement already satisfied: idna<4,>=2.5 in /usr/local/lib/python3.10/dist-packages (from requests->torchdata==0.6.0) (3.10)\n",
            "Requirement already satisfied: certifi>=2017.4.17 in /usr/local/lib/python3.10/dist-packages (from requests->torchdata==0.6.0) (2024.8.30)\n",
            "Requirement already satisfied: MarkupSafe>=2.0 in /usr/local/lib/python3.10/dist-packages (from jinja2->torch==2.0.0->torchdata==0.6.0) (3.0.2)\n",
            "Requirement already satisfied: mpmath<1.4,>=1.1.0 in /usr/local/lib/python3.10/dist-packages (from sympy->torch==2.0.0->torchdata==0.6.0) (1.3.0)\n",
            "Requirement already satisfied: portalocker==2.0.0 in /usr/local/lib/python3.10/dist-packages (2.0.0)\n",
            "Requirement already satisfied: torchtext==0.15.1 in /usr/local/lib/python3.10/dist-packages (0.15.1)\n",
            "Requirement already satisfied: tqdm in /usr/local/lib/python3.10/dist-packages (from torchtext==0.15.1) (4.66.6)\n",
            "Requirement already satisfied: requests in /usr/local/lib/python3.10/dist-packages (from torchtext==0.15.1) (2.32.3)\n",
            "Requirement already satisfied: torch==2.0.0 in /usr/local/lib/python3.10/dist-packages (from torchtext==0.15.1) (2.0.0)\n",
            "Requirement already satisfied: numpy in /usr/local/lib/python3.10/dist-packages (from torchtext==0.15.1) (1.26.4)\n",
            "Requirement already satisfied: torchdata==0.6.0 in /usr/local/lib/python3.10/dist-packages (from torchtext==0.15.1) (0.6.0)\n",
            "Requirement already satisfied: filelock in /usr/local/lib/python3.10/dist-packages (from torch==2.0.0->torchtext==0.15.1) (3.16.1)\n",
            "Requirement already satisfied: typing-extensions in /usr/local/lib/python3.10/dist-packages (from torch==2.0.0->torchtext==0.15.1) (4.12.2)\n",
            "Requirement already satisfied: sympy in /usr/local/lib/python3.10/dist-packages (from torch==2.0.0->torchtext==0.15.1) (1.13.1)\n",
            "Requirement already satisfied: networkx in /usr/local/lib/python3.10/dist-packages (from torch==2.0.0->torchtext==0.15.1) (3.4.2)\n",
            "Requirement already satisfied: jinja2 in /usr/local/lib/python3.10/dist-packages (from torch==2.0.0->torchtext==0.15.1) (3.1.4)\n",
            "Requirement already satisfied: nvidia-cuda-nvrtc-cu11==11.7.99 in /usr/local/lib/python3.10/dist-packages (from torch==2.0.0->torchtext==0.15.1) (11.7.99)\n",
            "Requirement already satisfied: nvidia-cuda-runtime-cu11==11.7.99 in /usr/local/lib/python3.10/dist-packages (from torch==2.0.0->torchtext==0.15.1) (11.7.99)\n",
            "Requirement already satisfied: nvidia-cuda-cupti-cu11==11.7.101 in /usr/local/lib/python3.10/dist-packages (from torch==2.0.0->torchtext==0.15.1) (11.7.101)\n",
            "Requirement already satisfied: nvidia-cudnn-cu11==8.5.0.96 in /usr/local/lib/python3.10/dist-packages (from torch==2.0.0->torchtext==0.15.1) (8.5.0.96)\n",
            "Requirement already satisfied: nvidia-cublas-cu11==11.10.3.66 in /usr/local/lib/python3.10/dist-packages (from torch==2.0.0->torchtext==0.15.1) (11.10.3.66)\n",
            "Requirement already satisfied: nvidia-cufft-cu11==10.9.0.58 in /usr/local/lib/python3.10/dist-packages (from torch==2.0.0->torchtext==0.15.1) (10.9.0.58)\n",
            "Requirement already satisfied: nvidia-curand-cu11==10.2.10.91 in /usr/local/lib/python3.10/dist-packages (from torch==2.0.0->torchtext==0.15.1) (10.2.10.91)\n",
            "Requirement already satisfied: nvidia-cusolver-cu11==11.4.0.1 in /usr/local/lib/python3.10/dist-packages (from torch==2.0.0->torchtext==0.15.1) (11.4.0.1)\n",
            "Requirement already satisfied: nvidia-cusparse-cu11==11.7.4.91 in /usr/local/lib/python3.10/dist-packages (from torch==2.0.0->torchtext==0.15.1) (11.7.4.91)\n",
            "Requirement already satisfied: nvidia-nccl-cu11==2.14.3 in /usr/local/lib/python3.10/dist-packages (from torch==2.0.0->torchtext==0.15.1) (2.14.3)\n",
            "Requirement already satisfied: nvidia-nvtx-cu11==11.7.91 in /usr/local/lib/python3.10/dist-packages (from torch==2.0.0->torchtext==0.15.1) (11.7.91)\n",
            "Requirement already satisfied: triton==2.0.0 in /usr/local/lib/python3.10/dist-packages (from torch==2.0.0->torchtext==0.15.1) (2.0.0)\n",
            "Requirement already satisfied: urllib3>=1.25 in /usr/local/lib/python3.10/dist-packages (from torchdata==0.6.0->torchtext==0.15.1) (2.2.3)\n",
            "Requirement already satisfied: setuptools in /usr/local/lib/python3.10/dist-packages (from nvidia-cublas-cu11==11.10.3.66->torch==2.0.0->torchtext==0.15.1) (75.1.0)\n",
            "Requirement already satisfied: wheel in /usr/local/lib/python3.10/dist-packages (from nvidia-cublas-cu11==11.10.3.66->torch==2.0.0->torchtext==0.15.1) (0.45.1)\n",
            "Requirement already satisfied: cmake in /usr/local/lib/python3.10/dist-packages (from triton==2.0.0->torch==2.0.0->torchtext==0.15.1) (3.30.5)\n",
            "Requirement already satisfied: lit in /usr/local/lib/python3.10/dist-packages (from triton==2.0.0->torch==2.0.0->torchtext==0.15.1) (18.1.8)\n",
            "Requirement already satisfied: charset-normalizer<4,>=2 in /usr/local/lib/python3.10/dist-packages (from requests->torchtext==0.15.1) (3.4.0)\n",
            "Requirement already satisfied: idna<4,>=2.5 in /usr/local/lib/python3.10/dist-packages (from requests->torchtext==0.15.1) (3.10)\n",
            "Requirement already satisfied: certifi>=2017.4.17 in /usr/local/lib/python3.10/dist-packages (from requests->torchtext==0.15.1) (2024.8.30)\n",
            "Requirement already satisfied: MarkupSafe>=2.0 in /usr/local/lib/python3.10/dist-packages (from jinja2->torch==2.0.0->torchtext==0.15.1) (3.0.2)\n",
            "Requirement already satisfied: mpmath<1.4,>=1.1.0 in /usr/local/lib/python3.10/dist-packages (from sympy->torch==2.0.0->torchtext==0.15.1) (1.3.0)\n"
          ]
        }
      ],
      "source": [
        "!pip install torchdata==0.6.0 # to be compatible with torch 2.0\n",
        "!pip install portalocker==2.0.0\n",
        "!pip install -U torchtext==0.15.1"
      ]
    },
    {
      "cell_type": "markdown",
      "source": [
        "# Common Imports"
      ],
      "metadata": {
        "id": "MxKr-cWAdQ3W"
      }
    },
    {
      "cell_type": "code",
      "source": [
        "import torch\n",
        "from torch import Tensor\n",
        "import math\n",
        "import torch.nn as nn\n",
        "from torch.nn import Parameter\n",
        "import torch.nn.functional as F\n",
        "from torch.nn.functional import one_hot\n",
        "\n",
        "import torch.optim as optim\n",
        "\n",
        "#text lib\n",
        "import torchtext\n",
        "\n",
        "# tokenizer\n",
        "from torchtext.data.utils import get_tokenizer\n",
        "\n",
        "#build vocabulary\n",
        "from torchtext.vocab import vocab\n",
        "from torchtext.vocab import build_vocab_from_iterator\n",
        "\n",
        "# get input_ids (numericalization)\n",
        "from torchtext.transforms import VocabTransform\n",
        "\n",
        "# get embeddings\n",
        "from torch.nn import Embedding\n",
        "\n",
        "from  pprint import pprint\n",
        "from yaml import safe_load\n",
        "import copy\n",
        "import numpy as np\n",
        "import matplotlib.pyplot as plt"
      ],
      "metadata": {
        "id": "kBtpv-ildSLk"
      },
      "execution_count": null,
      "outputs": []
    },
    {
      "cell_type": "code",
      "source": [
        "import nltk\n",
        "nltk.download('punkt')"
      ],
      "metadata": {
        "id": "yqPv7AWKfdUW",
        "colab": {
          "base_uri": "https://localhost:8080/"
        },
        "outputId": "1a265163-c5c2-460f-dc61-2d81d3055baa"
      },
      "execution_count": null,
      "outputs": [
        {
          "output_type": "stream",
          "name": "stderr",
          "text": [
            "[nltk_data] Downloading package punkt to /root/nltk_data...\n",
            "[nltk_data]   Package punkt is already up-to-date!\n"
          ]
        },
        {
          "output_type": "execute_result",
          "data": {
            "text/plain": [
              "True"
            ]
          },
          "metadata": {},
          "execution_count": 3
        }
      ]
    },
    {
      "cell_type": "markdown",
      "source": [
        "# Tokenize the given text"
      ],
      "metadata": {
        "id": "Qloiz5rGfvA6"
      }
    },
    {
      "cell_type": "code",
      "source": [
        "batch_size = 10"
      ],
      "metadata": {
        "id": "-uEjm4IBfv_g"
      },
      "execution_count": null,
      "outputs": []
    },
    {
      "cell_type": "code",
      "source": [
        "class Tokenizer(object):\n",
        "\n",
        "  def __init__(self,text):\n",
        "    self.text = text\n",
        "    self.word_tokenizer = get_tokenizer(tokenizer=\"basic_english\",language='en')\n",
        "    self.vocab_size = None\n",
        "\n",
        "  def get_tokens(self):\n",
        "    for sentence in self.text.strip().split('\\n'):\n",
        "      yield self.word_tokenizer(sentence)\n",
        "\n",
        "  def build_vocab(self):\n",
        "    v = build_vocab_from_iterator(self.get_tokens(),\n",
        "                                  min_freq=1,specials=['<unk>','<mask>'])\n",
        "    v.set_default_index(v['<unk>']) # index of OOV\n",
        "    self.vocab_size = len(v)\n",
        "    return v\n",
        "\n",
        "  def token_ids(self):\n",
        "    v = self.build_vocab()\n",
        "    vt = VocabTransform(v)\n",
        "    num_tokens = len(self.word_tokenizer(self.text))\n",
        "    max_seq_len = np.ceil(num_tokens/batch_size)\n",
        "    data = torch.zeros(size=(1,num_tokens))\n",
        "    data = vt(self.word_tokenizer(self.text))\n",
        "    data = torch.tensor(data,dtype=torch.int64)\n",
        "    return data.reshape(batch_size,torch.tensor(max_seq_len,dtype=torch.int64))\n",
        "\n"
      ],
      "metadata": {
        "id": "grprn0yuf5NF"
      },
      "execution_count": null,
      "outputs": []
    },
    {
      "cell_type": "code",
      "source": [
        "text = \"\"\"Best known for the invention of Error Correcting Codes, he was a true polymath who applied his mathematical and problem-solving skills to numerous disciplines.\n",
        "Reflecting on the significant benefits I received from Hamming, I decided to develop a tribute to his legacy. There has not been a previous biography of Hamming, and the few articles about him restate known facts and assumptions and leave us with open questions.\n",
        "One thought drove me as I developed this legacy project: An individual's legacy is more than a list of their attempts and accomplishments. Their tribute should also reveal the succeeding generations they inspired and enabled and what each attempted and achieved.\n",
        "This book is a unique genre containing my version of a biography that intertwines the story \"of a life\" and a multi-player memoir with particular events and turning points recalled by those, including me, who he inspired and enabled.\n",
        "Five years of research uncovered the people, places, opportunities, events, and influences that shaped Hamming. I discovered unpublished information, stories, photographs, videos, and personal remembrances to chronicle his life, which helped me put Hamming's\n",
        "legacy in the context I wanted.The result demonstrates many exceptional qualities, including his noble pursuit of excellence and helping others. Hamming paid attention to the details, his writings continue to influence, and his guidance is a timeless gift to the world.\n",
        "This biography is part of \"\"\""
      ],
      "metadata": {
        "id": "70QkLj9ageQu"
      },
      "execution_count": null,
      "outputs": []
    },
    {
      "cell_type": "code",
      "source": [
        "Tk = Tokenizer(text)"
      ],
      "metadata": {
        "id": "GC3n-zP3t_I9"
      },
      "execution_count": null,
      "outputs": []
    },
    {
      "cell_type": "code",
      "source": [
        "input_ids = Tk.token_ids()\n",
        "print(input_ids.shape)"
      ],
      "metadata": {
        "id": "LMculIZuu6Eo",
        "colab": {
          "base_uri": "https://localhost:8080/"
        },
        "outputId": "166c9326-f5c2-4b94-b8f2-37991f5f4e5f"
      },
      "execution_count": null,
      "outputs": [
        {
          "output_type": "stream",
          "name": "stdout",
          "text": [
            "torch.Size([10, 26])\n"
          ]
        }
      ]
    },
    {
      "cell_type": "markdown",
      "source": [
        "* We need to mask some words randomly based on the mask probability\n",
        "* The token id for the [mask] is 1\n",
        "* The function given below takes in the input ids and replaces some of the ids by 1 (token id for the [mask])\n",
        "* Since the loss is computed only over the predictions of masked tokens, we replace all non-masked input ids by -100"
      ],
      "metadata": {
        "id": "6LLxZQox6XrG"
      }
    },
    {
      "cell_type": "code",
      "source": [
        "def getdata(ip_ids,mask_token_id,mask_prob=0.2):\n",
        "  masked_ids = copy.deepcopy(ip_ids)\n",
        "  mask_random_idx = torch.randn_like(ip_ids,dtype=torch.float64)>(1-mask_prob)\n",
        "  masked_ids[mask_random_idx]=mask_token_id\n",
        "  labels = copy.deepcopy(ip_ids)\n",
        "  neg_mask = ~mask_random_idx\n",
        "  labels[neg_mask]=torch.tensor(-100)\n",
        "  return (masked_ids,labels,mask_random_idx)"
      ],
      "metadata": {
        "id": "Cpo-UM-Dvu7b"
      },
      "execution_count": null,
      "outputs": []
    },
    {
      "cell_type": "code",
      "source": [
        "mask_token_id = torch.tensor([1],dtype=torch.int64)\n",
        "x,y,mask_mtx = getdata(input_ids,mask_token_id)\n",
        "print(x[0,:],'\\n',y[0,:])"
      ],
      "metadata": {
        "id": "nc9TtOBmxAiY",
        "colab": {
          "base_uri": "https://localhost:8080/"
        },
        "outputId": "324447ac-89db-4068-a43e-e4d882a8ca7c"
      },
      "execution_count": null,
      "outputs": [
        {
          "output_type": "stream",
          "name": "stdout",
          "text": [
            "tensor([ 45,  23,  69,   5,  85,   7,  63,  53,  49,   2,   1, 148,   6, 139,\n",
            "          1,  29,  36,   1,  89,   3,   1, 129,   8,  96,  59,   1]) \n",
            " tensor([-100, -100, -100, -100, -100, -100, -100, -100, -100, -100,   20, -100,\n",
            "        -100, -100,  110, -100, -100,    9, -100, -100,  112, -100, -100, -100,\n",
            "        -100,    4])\n"
          ]
        }
      ]
    },
    {
      "cell_type": "markdown",
      "source": [
        "* Now we have our inputs and labels stored in x and y,respectively\n",
        "* It is always good to test the implementation by displaying the input sentence with masked tokens"
      ],
      "metadata": {
        "id": "1DmbfCrB78OC"
      }
    },
    {
      "cell_type": "code",
      "source": [
        "v = Tk.build_vocab()\n",
        "words = []\n",
        "for idx in x[0,:]:\n",
        "  words.append(v.vocab.get_itos()[idx.item()])\n",
        "print(' '.join(words))"
      ],
      "metadata": {
        "colab": {
          "base_uri": "https://localhost:8080/"
        },
        "id": "t7ikvzvxG91S",
        "outputId": "79cb0d7e-d61b-40e0-b0c4-65037fe8a493"
      },
      "execution_count": null,
      "outputs": [
        {
          "output_type": "stream",
          "name": "stdout",
          "text": [
            "best known for the invention of error correcting codes , <mask> was a true <mask> who applied <mask> mathematical and <mask> skills to numerous disciplines <mask>\n"
          ]
        }
      ]
    },
    {
      "cell_type": "markdown",
      "source": [
        "* Also display the words that are masked"
      ],
      "metadata": {
        "id": "dHn0Qj5a8UKw"
      }
    },
    {
      "cell_type": "code",
      "source": [
        "words = []\n",
        "for idx in y[0,:]:\n",
        "  if idx != -100:\n",
        "    words.append(v.vocab.get_itos()[idx.item()])\n",
        "print(' '.join(words))"
      ],
      "metadata": {
        "colab": {
          "base_uri": "https://localhost:8080/"
        },
        "id": "AKR0ODDwIC42",
        "outputId": "0316915f-db05-4183-8ae6-3cbf75978e29"
      },
      "execution_count": null,
      "outputs": [
        {
          "output_type": "stream",
          "name": "stdout",
          "text": [
            "he polymath his problem-solving .\n"
          ]
        }
      ]
    },
    {
      "cell_type": "markdown",
      "source": [
        "# Configuration"
      ],
      "metadata": {
        "id": "6xQJpejJyO3p"
      }
    },
    {
      "cell_type": "code",
      "source": [
        "vocab_size = Tk.vocab_size\n",
        "seq_len = x.shape[1]\n",
        "embed_dim = 32\n",
        "dmodel = embed_dim\n",
        "dq = torch.tensor(4)\n",
        "dk = torch.tensor(4)\n",
        "dv = torch.tensor(4)\n",
        "heads = torch.tensor(8)\n",
        "d_ff = 4*dmodel"
      ],
      "metadata": {
        "id": "IStSC20XyQeS"
      },
      "execution_count": null,
      "outputs": []
    },
    {
      "cell_type": "markdown",
      "source": [
        "# Model"
      ],
      "metadata": {
        "id": "LkR1OK06xzOC"
      }
    },
    {
      "cell_type": "code",
      "source": [
        "class MHA(nn.Module):\n",
        "\n",
        "  def __init__(self, dmodel, dq, dk, dv,heads):\n",
        "    super(MHA, self).__init__()\n",
        "    self.d_model = dmodel\n",
        "    self.heads = heads\n",
        "    self.W_q = nn.Parameter(torch.randn((heads, dmodel, dq),generator = torch.manual_seed(43)))\n",
        "    self.W_k = nn.Parameter(torch.randn((heads, dmodel, dk),generator = torch.manual_seed(44)))\n",
        "    self.W_v = nn.Parameter(torch.randn((heads, dmodel, dv),generator = torch.manual_seed(45)))\n",
        "    self.W_o = nn.Parameter(torch.randn((dmodel, dmodel),generator = torch.manual_seed(46)))\n",
        "\n",
        "  def forward(self, Q, K, V):\n",
        "    BS, T, _ = Q.shape\n",
        "    Q = torch.einsum('BTM, HMQ -> BHTQ', Q, self.W_q)\n",
        "    K = torch.einsum('BTM, HMK -> BHTK', K, self.W_k)\n",
        "    V = torch.einsum('BTM, HMV -> BHTV', V, self.W_v)\n",
        "    attn_score = torch.matmul(F.softmax((torch.matmul(Q,torch.transpose(K, -2, -1)))/math.sqrt(dq), dim = -1), V)\n",
        "    combined_attn = attn_score.permute(0,2,1,3).contiguous().view(BS, T, -1)\n",
        "    out = torch.matmul(combined_attn, self.W_o)\n",
        "    return out\n",
        "\n",
        "\n",
        "class FFN(nn.Module):\n",
        "\n",
        "  def __init__(self, dmodel, d_ff):\n",
        "    super(FFN, self).__init__()\n",
        "    self.W1 = nn.Parameter(torch.randn((dmodel, d_ff), generator = torch.manual_seed(47)))\n",
        "    self.b1 = nn.Parameter(torch.randn((d_ff), generator = torch.manual_seed(10)))\n",
        "    self.W2 = nn.Parameter(torch.randn((d_ff, dmodel), generator = torch.manual_seed(48)))\n",
        "    self.b2 = nn.Parameter(torch.randn((dmodel), generator = torch.manual_seed(10)))\n",
        "    self.relu = nn.ReLU()\n",
        "\n",
        "  def forward(self, x):\n",
        "    out = torch.einsum('BTM, MH -> BTH', x, self.W1) + self.b1\n",
        "    out = self.relu(out)\n",
        "    out = torch.einsum('BTM, MH -> BTH', out, self.W2) + self.b2\n",
        "    return out\n",
        "\n",
        "\n",
        "\n",
        "class Prediction(nn.Module):\n",
        "\n",
        "  def __init__(self, dmodel, trgt_vocab_size):\n",
        "    super(Prediction, self).__init__()\n",
        "    self.W = nn.Parameter(torch.randn((dmodel, trgt_vocab_size), generator = torch.manual_seed(49)))\n",
        "    self.b = nn.Parameter(torch.randn((trgt_vocab_size), generator = torch.manual_seed(10)))\n",
        "\n",
        "  def forward(self, x):\n",
        "    out = torch.matmul(x, self.W) + self.b\n",
        "    return out\n",
        "\n",
        "\n",
        "class PositionalEncoding(nn.Module):\n",
        "\n",
        "  def __init__(self,d_model, max_seq_len = 512):\n",
        "      super(PositionalEncoding, self).__init__()\n",
        "      pe = torch.zeros(max_seq_len, dmodel)\n",
        "      position = torch.arange(0, max_seq_len, dtype=torch.float).unsqueeze(1)\n",
        "      div_term = torch.exp(torch.arange(0, dmodel, 2).float() * (-torch.log(torch.tensor(10000.0)) / dmodel))\n",
        "      pe[:, 0::2] = torch.sin(position * div_term)\n",
        "      pe[:, 1::2] = torch.cos(position * div_term)\n",
        "      self.register_buffer('pe', pe.unsqueeze(0))\n",
        "\n",
        "  def forward(self, x):\n",
        "      x = x + self.pe[:, :x.size(1)]\n",
        "      return x\n",
        "\n",
        "\n",
        "class Embed(nn.Module):\n",
        "\n",
        "  def __init__(self,vocab_size,embed_dim):\n",
        "    super(Embed,self).__init__()\n",
        "    self.embed_weights = nn.Embedding(num_embeddings = vocab_size, embedding_dim = dmodel, _weight = torch.randn((vocab_size, dmodel), generator=torch.manual_seed(70)))\n",
        "    self.pe = PositionalEncoding(dmodel)\n",
        "\n",
        "  def forward(self,x):\n",
        "    '''\n",
        "    Take in the input ids and output the final embeddings (token embedding + positional embedding)\n",
        "    '''\n",
        "    out = self.pe(self.embed_weights(x))\n",
        "    return out\n",
        "\n",
        "\n",
        "class EncoderLayer(nn.Module):\n",
        "\n",
        "  def __init__(self,dmodel,dq,dk,dv,d_ff,heads):\n",
        "    super(EncoderLayer,self).__init__()\n",
        "    self.mha = MHA(dmodel,dq,dk,dv,heads)\n",
        "    self.layer_norm_1 = torch.nn.LayerNorm(dmodel)\n",
        "    self.layer_norm_2 = torch.nn.LayerNorm(dmodel)\n",
        "    self.ffn = FFN(dmodel,d_ff)\n",
        "\n",
        "  def forward(self,x):\n",
        "    out = self.mha(x,x,x)\n",
        "    out = self.layer_norm_1(out+x)\n",
        "    out = self.layer_norm_2(self.ffn(out)+out)\n",
        "    return out"
      ],
      "metadata": {
        "id": "lwKEEtfXxWg0"
      },
      "execution_count": null,
      "outputs": []
    },
    {
      "cell_type": "code",
      "source": [
        "class BERT(nn.Module):\n",
        "\n",
        "  def __init__(self,vocab_size,dmodel,dq,dk,dv,d_ff,heads,num_layers=1):\n",
        "    super(BERT,self).__init__()\n",
        "    self.embed_lookup = Embed(vocab_size,embed_dim)\n",
        "    self.enc_layers = nn.ModuleList(copy.deepcopy(EncoderLayer(dmodel,dq,dk,dv,d_ff,heads)) for i in range(num_layers))\n",
        "    self.predict = Prediction(dmodel,vocab_size)\n",
        "\n",
        "  def forward(self,input_ids):\n",
        "    x = self.embed_lookup(input_ids)\n",
        "    for enc_layer in self.enc_layers:\n",
        "      x = enc_layer(x)\n",
        "    out = self.predict(x)\n",
        "    return out"
      ],
      "metadata": {
        "id": "uSzvePtJyvWj"
      },
      "execution_count": null,
      "outputs": []
    },
    {
      "cell_type": "code",
      "source": [
        "model = BERT(vocab_size,dmodel,dq,dk,dv,d_ff,heads,num_layers=1)\n",
        "optimizer = optim.SGD(model.parameters(),lr=0.01)\n",
        "criterion = nn.CrossEntropyLoss()"
      ],
      "metadata": {
        "id": "gwapWxHv2Djs"
      },
      "execution_count": null,
      "outputs": []
    },
    {
      "cell_type": "markdown",
      "source": [
        "# Training the model"
      ],
      "metadata": {
        "id": "HxBH1VRCB2IZ"
      }
    },
    {
      "cell_type": "code",
      "source": [
        "def train(token_ids,labels,epochs=1000):\n",
        "    loss_trace = []\n",
        "    for epoch in range(epochs):\n",
        "        out = model(token_ids)\n",
        "        out = out.view(-1, vocab_size)\n",
        "\n",
        "        target = labels.view(-1)\n",
        "        valid_mask = target != -100\n",
        "        target = target[valid_mask]\n",
        "        out = out[valid_mask]\n",
        "\n",
        "        loss = criterion(out, target.type(torch.LongTensor))\n",
        "        loss_trace.append(loss.item())\n",
        "\n",
        "        if (epoch + 1) % 1000 == 0:\n",
        "            print(f'Epoch: {epoch + 1} Loss: {loss.item()}')\n",
        "\n",
        "        loss.backward()\n",
        "        optimizer.step()\n",
        "        optimizer.zero_grad()\n",
        "\n",
        "    plt.figure(figsize=(10, 6))\n",
        "    plt.plot(range(1, epochs + 1), loss_trace, label='Training Loss')\n",
        "    plt.xlabel('Epochs')\n",
        "    plt.ylabel('Loss')\n",
        "    plt.title('Training Loss Over Epochs')\n",
        "    plt.legend()\n",
        "    plt.grid()\n",
        "    plt.show()\n"
      ],
      "metadata": {
        "id": "an64oZq96wvP"
      },
      "execution_count": null,
      "outputs": []
    },
    {
      "cell_type": "code",
      "source": [
        "train(x,y,20000)"
      ],
      "metadata": {
        "id": "GgFE9rBKCEn7",
        "colab": {
          "base_uri": "https://localhost:8080/",
          "height": 908
        },
        "outputId": "218e8f10-2d48-41ac-eed1-234842ce51de"
      },
      "execution_count": null,
      "outputs": [
        {
          "output_type": "stream",
          "name": "stdout",
          "text": [
            "Epoch: 1000 Loss: 0.23050665855407715\n",
            "Epoch: 2000 Loss: 0.10438688844442368\n",
            "Epoch: 3000 Loss: 0.02243437059223652\n",
            "Epoch: 4000 Loss: 0.013119054026901722\n",
            "Epoch: 5000 Loss: 0.00910886563360691\n",
            "Epoch: 6000 Loss: 0.006912269629538059\n",
            "Epoch: 7000 Loss: 0.005527968518435955\n",
            "Epoch: 8000 Loss: 0.004579723346978426\n",
            "Epoch: 9000 Loss: 0.0038836419116705656\n",
            "Epoch: 10000 Loss: 0.0033548029605299234\n",
            "Epoch: 11000 Loss: 0.002945458283647895\n",
            "Epoch: 12000 Loss: 0.002620176412165165\n",
            "Epoch: 13000 Loss: 0.002356479410082102\n",
            "Epoch: 14000 Loss: 0.0021384151186794043\n",
            "Epoch: 15000 Loss: 0.001954037230461836\n",
            "Epoch: 16000 Loss: 0.0017974992515519261\n",
            "Epoch: 17000 Loss: 0.001663011615164578\n",
            "Epoch: 18000 Loss: 0.0015458546113222837\n",
            "Epoch: 19000 Loss: 0.0014433222822844982\n",
            "Epoch: 20000 Loss: 0.001352260122075677\n"
          ]
        },
        {
          "output_type": "display_data",
          "data": {
            "text/plain": [
              "<Figure size 1000x600 with 1 Axes>"
            ],
            "image/png": "[encoded data removed]"
          },
          "metadata": {}
        }
      ]
    },
    {
      "cell_type": "markdown",
      "source": [
        "* The loss will come around 0.02 after 20000 epochs (again, it is absolutely fine if you get a different value)\n",
        "* Let us predict the masked tokens for all the samples in the tiny dataset"
      ],
      "metadata": {
        "id": "bm6javO6DfOy"
      }
    },
    {
      "cell_type": "code",
      "source": [
        "with torch.inference_mode():\n",
        "  predictions = torch.argmax(model(x),dim=-1)"
      ],
      "metadata": {
        "id": "sHyMJYvVCEu2"
      },
      "execution_count": null,
      "outputs": []
    },
    {
      "cell_type": "code",
      "source": [
        "v = Tk.build_vocab()\n",
        "masked_words = []\n",
        "predicted_words=[]\n",
        "for index,idx in enumerate(y.flatten()):\n",
        "  # to display only the masked tokens\n",
        "  if idx != -100:\n",
        "    masked_words.append(v.vocab.get_itos()[idx.item()])\n",
        "    predicted_words.append(v.vocab.get_itos()[predictions.flatten()[index].item()])\n",
        "print('Masked Words: ')\n",
        "print(' '.join(masked_words))\n",
        "print('Predicted Words: ')\n",
        "print(' '.join(predicted_words))"
      ],
      "metadata": {
        "colab": {
          "base_uri": "https://localhost:8080/"
        },
        "id": "90vsv_m8J57q",
        "outputId": "29ba7a49-d232-4774-ef75-ca23f99e57f5"
      },
      "execution_count": null,
      "outputs": [
        {
          "output_type": "stream",
          "name": "stdout",
          "text": [
            "Masked Words: \n",
            "he polymath his problem-solving . on hamming , decided . biography of few about facts and questions legacy legacy their the and . is containing of story particular recalled . unpublished photographs videos which me s legacy demonstrates , including pursuit continue to gift the\n",
            "Predicted Words: \n",
            "he polymath his problem-solving . on hamming , decided . biography of few about facts and questions legacy legacy their the and . is containing of story particular recalled . unpublished photographs videos which me s legacy demonstrates , including pursuit continue to gift the\n"
          ]
        }
      ]
    }
  ]
}